{
 "cells": [
  {
   "cell_type": "markdown",
   "id": "1fb1b3ac",
   "metadata": {},
   "source": [
    "## Задание 1\n",
    "\n",
    "> Переведите содержимое файла purchase_log.txt в словарь purchases вида: {'1840e0b9d4': 'Продукты', ...}.\n",
    "Пример работы программы при выводе первых двух элементов словаря purchases:\n",
    "\n",
    "` 1840e0b9d4 ‘Продукты‘`\n",
    "\n",
    "`4e4f90fcfb  ‘Электроника‘`"
   ]
  },
  {
   "cell_type": "code",
   "execution_count": 1,
   "id": "577e580b",
   "metadata": {},
   "outputs": [],
   "source": [
    "import json\n",
    "\n",
    "PURCHASE_LOG = 'purchase_log.txt'"
   ]
  },
  {
   "cell_type": "code",
   "execution_count": 2,
   "id": "6f6a8b56",
   "metadata": {},
   "outputs": [],
   "source": [
    "purchases = {}\n",
    "\n",
    "with open(PURCHASE_LOG, 'r', encoding='utf-8') as purchases_file:\n",
    "    for line in purchases_file:\n",
    "        data = json.loads(line)\n",
    "        if data['user_id'] == 'user_id' and data['category'] == 'category':\n",
    "            continue\n",
    "        purchases[data['user_id']] = data['category']\n"
   ]
  },
  {
   "cell_type": "markdown",
   "id": "658309d1",
   "metadata": {},
   "source": [
    "### Результат\n",
    "\n",
    "Формат вывода первых двух элементов словаря «purchases» соответствует примеру в задании\n"
   ]
  },
  {
   "cell_type": "code",
   "execution_count": 3,
   "id": "d656483d",
   "metadata": {},
   "outputs": [
    {
     "name": "stdout",
     "output_type": "stream",
     "text": [
      "1840e0b9d4 Продукты\n",
      "4e4f90fcfb Электроника\n"
     ]
    }
   ],
   "source": [
    "first_two = list(purchases.items())[:2]\n",
    "for user, category in first_two:\n",
    "    print(user, category)\n"
   ]
  },
  {
   "cell_type": "markdown",
   "id": "b3bdfb89",
   "metadata": {},
   "source": [
    "## Задание 2 (необязательное)\n",
    "\n",
    "Для каждого user_id в файле visit_log.csv определите третий столбец с категорией покупки. Если покупка была, сам файл visit_log.csv изменять не надо. Запишите в файл funnel.csv визиты из файла visit_log.csv, в которых были покупки с указанием категории.\n",
    "\n",
    "Учтите условия для данных:\n",
    "\n",
    "- содержимое purchase_log.txt помещается в оперативную память компьютера;\n",
    "\n",
    "- содержимое visit_log.csv — нет, используйте только построчную обработку этого файла.\n",
    "\n",
    "\n",
    "\n",
    "Примеры работы программы при выводе первых трёх строк файла funnel.csv:\n",
    "\n",
    "` user_id,source,category `\n",
    "\n",
    "` 1840e0b9d4,other,Продукты `\n",
    "\n",
    "` 4e4f90fcfb,context,Электроника `\n"
   ]
  },
  {
   "cell_type": "code",
   "execution_count": 4,
   "id": "d9615649",
   "metadata": {},
   "outputs": [],
   "source": [
    "VISIT_LOG = 'visit_log.csv'\n",
    "FUNNEL_OUT = 'funnel.csv'\n"
   ]
  },
  {
   "cell_type": "code",
   "execution_count": 5,
   "id": "cb0630c9",
   "metadata": {},
   "outputs": [],
   "source": [
    "with open(VISIT_LOG, 'r', encoding='utf-8') as visits_file, \\\n",
    "     open(FUNNEL_OUT, 'w', encoding='utf-8', newline='') as funnel_file:\n",
    "    funnel_file.write('user_id,source,category\\n')  # заголовок\n",
    "    for line in visits_file:\n",
    "        if data['user_id'] == 'user_id' and data['category'] == 'category':\n",
    "            continue\n",
    "        parts = line.strip().split(',')\n",
    "        if len(parts) < 2:\n",
    "            continue\n",
    "        user_id, source = parts[0], parts[1]\n",
    "        if user_id in purchases:\n",
    "            funnel_file.write(f'{user_id},{source},{purchases[user_id]}\\n')\n"
   ]
  },
  {
   "cell_type": "markdown",
   "id": "4fc25bce",
   "metadata": {},
   "source": [
    "### Результат\n",
    "\n",
    "Первые нескольких строк файла funnel.csv при выводе на экран состоят из трёх столбцов. В третьем столбце записана категория покупки"
   ]
  },
  {
   "cell_type": "code",
   "execution_count": 6,
   "id": "e4841bc7",
   "metadata": {},
   "outputs": [
    {
     "name": "stdout",
     "output_type": "stream",
     "text": [
      "user_id,source,category\n",
      "1840e0b9d4,other,Продукты\n",
      "4e4f90fcfb,context,Электроника\n"
     ]
    }
   ],
   "source": [
    "with open(FUNNEL_OUT, 'r', encoding='utf-8') as funnel_file:\n",
    "    for i, line in enumerate(funnel_file):\n",
    "        print(line.strip())\n",
    "        if i == 2: \n",
    "            break\n"
   ]
  }
 ],
 "metadata": {
  "kernelspec": {
   "display_name": "Python 3",
   "language": "python",
   "name": "python3"
  },
  "language_info": {
   "codemirror_mode": {
    "name": "ipython",
    "version": 3
   },
   "file_extension": ".py",
   "mimetype": "text/x-python",
   "name": "python",
   "nbconvert_exporter": "python",
   "pygments_lexer": "ipython3",
   "version": "3.11.13"
  }
 },
 "nbformat": 4,
 "nbformat_minor": 5
}
