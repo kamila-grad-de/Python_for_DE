{
 "cells": [
  {
   "cell_type": "code",
   "execution_count": null,
   "id": "577e580b",
   "metadata": {},
   "outputs": [],
   "source": [
    "import os\n",
    "import json"
   ]
  },
  {
   "cell_type": "code",
   "execution_count": null,
   "id": "da05f079",
   "metadata": {},
   "outputs": [],
   "source": [
    "DATA_DIR = \"./data\"\n",
    "PURCHASE_LOG = os.path.join(DATA_DIR, \"purchase_log.txt\")"
   ]
  }
 ],
 "metadata": {
  "language_info": {
   "name": "python"
  }
 },
 "nbformat": 4,
 "nbformat_minor": 5
}
