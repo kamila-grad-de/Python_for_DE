{
 "cells": [
  {
   "cell_type": "markdown",
   "id": "1c443607",
   "metadata": {},
   "source": [
    "## Задание 1\n",
    "Печатные газеты использовали свой формат дат для каждого выпуска. Для каждой газеты из списка напишите формат указанной даты для перевода в объект datetime:\n",
    "\n",
    "- The Moscow Times - Wednesday, October 2, 2002\n",
    "- The Guardian - Friday, 11.10.13\n",
    "- Daily News - Thursday, 18 August 1977\n",
    "\n",
    "Пример работы программы\n",
    "\n",
    "Программа должна выводить на экран объекты типа datetime, соответствующие датам в условии задачи\n"
   ]
  },
  {
   "cell_type": "code",
   "execution_count": 8,
   "id": "894444ec",
   "metadata": {},
   "outputs": [],
   "source": [
    "from datetime import datetime"
   ]
  },
  {
   "cell_type": "code",
   "execution_count": 9,
   "id": "cacce461",
   "metadata": {},
   "outputs": [
    {
     "name": "stdout",
     "output_type": "stream",
     "text": [
      "2002-10-02 00:00:00\n",
      "2013-10-11 00:00:00\n",
      "1977-08-18 00:00:00\n"
     ]
    }
   ],
   "source": [
    "print(datetime.strptime('Wednesday, October 2, 2002', '%A, %B %d, %Y'))\n",
    "print(datetime.strptime('Friday, 11.10.13', '%A, %d.%m.%y'))\n",
    "print(datetime.strptime('Thursday, 18 August 1977', '%A, %d %B %Y'))"
   ]
  },
  {
   "cell_type": "markdown",
   "id": "cec4de58",
   "metadata": {},
   "source": [
    "## Задание 2 (не обязательное)\n",
    "Напишите функцию date_range, которая возвращает список дат за период от start_date до end_date. Даты должны вводиться в формате YYYY-MM-DD. В случае неверного формата или при start_date > end_date должен возвращаться пустой список.\n",
    "\n",
    "Примеры работы программы:\n",
    "\n",
    "`date_range(‘2022-01-01’, ‘2022-01-03’)`\n",
    "\n",
    "`[‘2022-01-01’, ‘2022-01-02’, ‘2022-01-03’]`\n"
   ]
  },
  {
   "cell_type": "code",
   "execution_count": 11,
   "id": "ea57fee3",
   "metadata": {},
   "outputs": [],
   "source": [
    "from datetime import datetime, timedelta\n"
   ]
  },
  {
   "cell_type": "code",
   "execution_count": 14,
   "id": "15749b34",
   "metadata": {},
   "outputs": [],
   "source": [
    "def date_range(start_date, end_date):\n",
    "    dates_result = []\n",
    "    # возвращаем пустой список при неверном формате даты\n",
    "    try:\n",
    "        start = datetime.strptime(start_date, '%Y-%m-%d')\n",
    "        end = datetime.strptime(end_date, '%Y-%m-%d')\n",
    "    except ValueError:\n",
    "        return []\n",
    "    \n",
    "    # возвращаем пустой список, если start_date > end_date\n",
    "    if start > end:\n",
    "        return []\n",
    "\n",
    "    while start <= end:\n",
    "        dates_result.append(start.strftime('%Y-%m-%d'))\n",
    "        start += timedelta(days=1)\n",
    "\n",
    "    return dates_result\n"
   ]
  },
  {
   "cell_type": "markdown",
   "id": "2f29f774",
   "metadata": {},
   "source": [
    "### Результат\n",
    "\n",
    "Функция date_range возвращает список дат за период от start_date до end_date."
   ]
  },
  {
   "cell_type": "code",
   "execution_count": 17,
   "id": "96711139",
   "metadata": {},
   "outputs": [
    {
     "name": "stdout",
     "output_type": "stream",
     "text": [
      "['2022-01-01', '2022-01-02', '2022-01-03']\n"
     ]
    }
   ],
   "source": [
    "print(date_range('2022-01-01', '2022-01-03'))"
   ]
  },
  {
   "cell_type": "markdown",
   "id": "a19b1cb1",
   "metadata": {},
   "source": [
    "В случае неправильного формата даты или при start_date > end_date возвращается пустой список."
   ]
  },
  {
   "cell_type": "code",
   "execution_count": 21,
   "id": "eea19cdf",
   "metadata": {},
   "outputs": [
    {
     "name": "stdout",
     "output_type": "stream",
     "text": [
      "[]\n",
      "[]\n"
     ]
    }
   ],
   "source": [
    "print(date_range('2022-01-03', '2022-01-01'))\n",
    "print(date_range('2022-02-30', '2022-02-31'))"
   ]
  }
 ],
 "metadata": {
  "kernelspec": {
   "display_name": "Python 3",
   "language": "python",
   "name": "python3"
  },
  "language_info": {
   "codemirror_mode": {
    "name": "ipython",
    "version": 3
   },
   "file_extension": ".py",
   "mimetype": "text/x-python",
   "name": "python",
   "nbconvert_exporter": "python",
   "pygments_lexer": "ipython3",
   "version": "3.11.13"
  }
 },
 "nbformat": 4,
 "nbformat_minor": 5
}
