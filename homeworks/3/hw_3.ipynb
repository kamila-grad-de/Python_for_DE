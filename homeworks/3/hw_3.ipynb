{
 "cells": [
  {
   "cell_type": "code",
   "execution_count": 1,
   "id": "a4049bef",
   "metadata": {},
   "outputs": [],
   "source": [
    "import pandas as pd\n",
    "import numpy as np\n",
    "import matplotlib.pyplot as plt"
   ]
  },
  {
   "cell_type": "markdown",
   "id": "f2ccf833",
   "metadata": {},
   "source": [
    "## Задание 1\n",
    "На основании датасета для каждого покупателя получите:\n",
    "- предпочитаемый метод оплаты; \n",
    "- общие траты;\n",
    "- количество денег, потраченных на дополнительные услуги и аксессуары. \n"
   ]
  },
  {
   "cell_type": "code",
   "execution_count": 2,
   "id": "9f654ed9",
   "metadata": {},
   "outputs": [],
   "source": [
    "data = pd.read_csv('Electronic_sales_Sep2023-Sep2024.csv')"
   ]
  },
  {
   "cell_type": "code",
   "execution_count": 3,
   "id": "acd64751",
   "metadata": {},
   "outputs": [
    {
     "name": "stdout",
     "output_type": "stream",
     "text": [
      "['Cancelled' 'Completed']\n"
     ]
    }
   ],
   "source": [
    "print(data['Order Status'].unique())"
   ]
  },
  {
   "cell_type": "code",
   "execution_count": 4,
   "id": "8d5aaa00",
   "metadata": {},
   "outputs": [],
   "source": [
    "# Фильтруем только завершённые заказы\n",
    "df_completed = data[data['Order Status'] == 'Completed'].copy()"
   ]
  },
  {
   "cell_type": "code",
   "execution_count": 5,
   "id": "17fee51b",
   "metadata": {},
   "outputs": [],
   "source": [
    "result = df_completed.groupby('Customer ID').agg({\n",
    "    'Payment Method': lambda x: x.value_counts().idxmax(),\n",
    "    'Total Price': 'sum',\n",
    "    'Add-on Total': 'sum',\n",
    "})"
   ]
  },
  {
   "cell_type": "code",
   "execution_count": 6,
   "id": "69bda595",
   "metadata": {},
   "outputs": [],
   "source": [
    "rename_dict = {\n",
    "    'Payment Method': 'Payment Method Preference',\n",
    "    'Total Price': 'Total expenses',\n",
    "    'Add-on Total': 'Total add-on expenses'\n",
    "}\n",
    "\n",
    "result.rename(columns=rename_dict, inplace=True)\n"
   ]
  },
  {
   "cell_type": "markdown",
   "id": "42cfe306",
   "metadata": {},
   "source": [
    "### Результат\n",
    "На основании датасета для каждого покупателя получены:\n",
    "- предпочитаемый метод оплаты (поле Payment Method Preference); \n",
    "- общие траты (поле Total expenses);\n",
    "- количество денег, потраченных на дополнительные услуги и аксессуары (поле Total add-on expenses) \n",
    "\n",
    "При расчете учитывались только заказы в статусе Completed.\n"
   ]
  },
  {
   "cell_type": "code",
   "execution_count": 7,
   "id": "003a3c6d",
   "metadata": {},
   "outputs": [
    {
     "data": {
      "text/html": [
       "<div>\n",
       "<style scoped>\n",
       "    .dataframe tbody tr th:only-of-type {\n",
       "        vertical-align: middle;\n",
       "    }\n",
       "\n",
       "    .dataframe tbody tr th {\n",
       "        vertical-align: top;\n",
       "    }\n",
       "\n",
       "    .dataframe thead th {\n",
       "        text-align: right;\n",
       "    }\n",
       "</style>\n",
       "<table border=\"1\" class=\"dataframe\">\n",
       "  <thead>\n",
       "    <tr style=\"text-align: right;\">\n",
       "      <th></th>\n",
       "      <th>Payment Method Preference</th>\n",
       "      <th>Total expenses</th>\n",
       "      <th>Total add-on expenses</th>\n",
       "    </tr>\n",
       "    <tr>\n",
       "      <th>Customer ID</th>\n",
       "      <th></th>\n",
       "      <th></th>\n",
       "      <th></th>\n",
       "    </tr>\n",
       "  </thead>\n",
       "  <tbody>\n",
       "    <tr>\n",
       "      <th>1000</th>\n",
       "      <td>Paypal</td>\n",
       "      <td>741.09</td>\n",
       "      <td>26.09</td>\n",
       "    </tr>\n",
       "    <tr>\n",
       "      <th>1002</th>\n",
       "      <td>Credit Card</td>\n",
       "      <td>5020.60</td>\n",
       "      <td>60.16</td>\n",
       "    </tr>\n",
       "    <tr>\n",
       "      <th>1003</th>\n",
       "      <td>Cash</td>\n",
       "      <td>41.50</td>\n",
       "      <td>35.56</td>\n",
       "    </tr>\n",
       "    <tr>\n",
       "      <th>1004</th>\n",
       "      <td>Credit Card</td>\n",
       "      <td>83.00</td>\n",
       "      <td>65.78</td>\n",
       "    </tr>\n",
       "    <tr>\n",
       "      <th>1005</th>\n",
       "      <td>Paypal</td>\n",
       "      <td>11779.11</td>\n",
       "      <td>75.33</td>\n",
       "    </tr>\n",
       "    <tr>\n",
       "      <th>1006</th>\n",
       "      <td>Cash</td>\n",
       "      <td>6645.94</td>\n",
       "      <td>90.38</td>\n",
       "    </tr>\n",
       "    <tr>\n",
       "      <th>1008</th>\n",
       "      <td>Cash</td>\n",
       "      <td>3379.32</td>\n",
       "      <td>65.85</td>\n",
       "    </tr>\n",
       "    <tr>\n",
       "      <th>1011</th>\n",
       "      <td>Credit Card</td>\n",
       "      <td>7911.90</td>\n",
       "      <td>70.17</td>\n",
       "    </tr>\n",
       "    <tr>\n",
       "      <th>1014</th>\n",
       "      <td>Cash</td>\n",
       "      <td>4747.14</td>\n",
       "      <td>8.30</td>\n",
       "    </tr>\n",
       "    <tr>\n",
       "      <th>1015</th>\n",
       "      <td>Paypal</td>\n",
       "      <td>83.00</td>\n",
       "      <td>80.00</td>\n",
       "    </tr>\n",
       "  </tbody>\n",
       "</table>\n",
       "</div>"
      ],
      "text/plain": [
       "            Payment Method Preference  Total expenses  Total add-on expenses\n",
       "Customer ID                                                                 \n",
       "1000                           Paypal          741.09                  26.09\n",
       "1002                      Credit Card         5020.60                  60.16\n",
       "1003                             Cash           41.50                  35.56\n",
       "1004                      Credit Card           83.00                  65.78\n",
       "1005                           Paypal        11779.11                  75.33\n",
       "1006                             Cash         6645.94                  90.38\n",
       "1008                             Cash         3379.32                  65.85\n",
       "1011                      Credit Card         7911.90                  70.17\n",
       "1014                             Cash         4747.14                   8.30\n",
       "1015                           Paypal           83.00                  80.00"
      ]
     },
     "execution_count": 7,
     "metadata": {},
     "output_type": "execute_result"
    }
   ],
   "source": [
    "result.head(10)"
   ]
  },
  {
   "cell_type": "markdown",
   "id": "0b9b7122",
   "metadata": {},
   "source": [
    "## Задание 2\n",
    "1. На основании датасета получите доход:\n",
    "- по каждому методу доставки, \n",
    "- по каждому типу продукта, \n",
    "- по дополнительным услугам за каждый месяц,\n",
    "- по дополнительным услугам за каждый квартал. \n",
    "2. Отобразите полученные данные на графике.\n"
   ]
  },
  {
   "cell_type": "code",
   "execution_count": 8,
   "id": "6c972254",
   "metadata": {},
   "outputs": [],
   "source": [
    "# Приводим дату к формату datetime\n",
    "df_completed['Purchase Date'] = pd.to_datetime(df_completed['Purchase Date'])\n"
   ]
  },
  {
   "cell_type": "code",
   "execution_count": 9,
   "id": "962d8ab5",
   "metadata": {},
   "outputs": [],
   "source": [
    "# Считаем доход как сумму основной цены и доп. услуг\n",
    "df_completed['Income'] = (df_completed['Total Price'] + df_completed['Add-on Total'])"
   ]
  },
  {
   "cell_type": "markdown",
   "id": "18715589",
   "metadata": {},
   "source": [
    "#### Доход по методу доставки"
   ]
  },
  {
   "cell_type": "code",
   "execution_count": 10,
   "id": "8143a9ec",
   "metadata": {},
   "outputs": [
    {
     "data": {
      "text/html": [
       "<div>\n",
       "<style scoped>\n",
       "    .dataframe tbody tr th:only-of-type {\n",
       "        vertical-align: middle;\n",
       "    }\n",
       "\n",
       "    .dataframe tbody tr th {\n",
       "        vertical-align: top;\n",
       "    }\n",
       "\n",
       "    .dataframe thead th {\n",
       "        text-align: right;\n",
       "    }\n",
       "</style>\n",
       "<table border=\"1\" class=\"dataframe\">\n",
       "  <thead>\n",
       "    <tr style=\"text-align: right;\">\n",
       "      <th></th>\n",
       "      <th>Shipping Type</th>\n",
       "      <th>Income</th>\n",
       "    </tr>\n",
       "  </thead>\n",
       "  <tbody>\n",
       "    <tr>\n",
       "      <th>0</th>\n",
       "      <td>Standard</td>\n",
       "      <td>14676351.95</td>\n",
       "    </tr>\n",
       "    <tr>\n",
       "      <th>1</th>\n",
       "      <td>Expedited</td>\n",
       "      <td>8610437.09</td>\n",
       "    </tr>\n",
       "    <tr>\n",
       "      <th>2</th>\n",
       "      <td>Same Day</td>\n",
       "      <td>8469574.60</td>\n",
       "    </tr>\n",
       "    <tr>\n",
       "      <th>3</th>\n",
       "      <td>Overnight</td>\n",
       "      <td>5982983.40</td>\n",
       "    </tr>\n",
       "    <tr>\n",
       "      <th>4</th>\n",
       "      <td>Express</td>\n",
       "      <td>5725863.77</td>\n",
       "    </tr>\n",
       "  </tbody>\n",
       "</table>\n",
       "</div>"
      ],
      "text/plain": [
       "  Shipping Type       Income\n",
       "0      Standard  14676351.95\n",
       "1     Expedited   8610437.09\n",
       "2      Same Day   8469574.60\n",
       "3     Overnight   5982983.40\n",
       "4       Express   5725863.77"
      ]
     },
     "execution_count": 10,
     "metadata": {},
     "output_type": "execute_result"
    }
   ],
   "source": [
    "income_by_shipping = (\n",
    "    df_completed.groupby('Shipping Type')['Income']\n",
    "    .sum()\n",
    "    .sort_values(ascending=False)\n",
    "    .reset_index()\n",
    ")\n",
    "income_by_shipping.head()\n"
   ]
  },
  {
   "cell_type": "markdown",
   "id": "665e1b04",
   "metadata": {},
   "source": [
    "#### Доход по типу продукта"
   ]
  },
  {
   "cell_type": "code",
   "execution_count": 11,
   "id": "083432bb",
   "metadata": {},
   "outputs": [
    {
     "data": {
      "text/html": [
       "<div>\n",
       "<style scoped>\n",
       "    .dataframe tbody tr th:only-of-type {\n",
       "        vertical-align: middle;\n",
       "    }\n",
       "\n",
       "    .dataframe tbody tr th {\n",
       "        vertical-align: top;\n",
       "    }\n",
       "\n",
       "    .dataframe thead th {\n",
       "        text-align: right;\n",
       "    }\n",
       "</style>\n",
       "<table border=\"1\" class=\"dataframe\">\n",
       "  <thead>\n",
       "    <tr style=\"text-align: right;\">\n",
       "      <th></th>\n",
       "      <th>Product Type</th>\n",
       "      <th>Income</th>\n",
       "    </tr>\n",
       "  </thead>\n",
       "  <tbody>\n",
       "    <tr>\n",
       "      <th>0</th>\n",
       "      <td>Smartphone</td>\n",
       "      <td>14630325.53</td>\n",
       "    </tr>\n",
       "    <tr>\n",
       "      <th>1</th>\n",
       "      <td>Smartwatch</td>\n",
       "      <td>9557416.02</td>\n",
       "    </tr>\n",
       "    <tr>\n",
       "      <th>2</th>\n",
       "      <td>Laptop</td>\n",
       "      <td>8536583.03</td>\n",
       "    </tr>\n",
       "    <tr>\n",
       "      <th>3</th>\n",
       "      <td>Tablet</td>\n",
       "      <td>7893431.51</td>\n",
       "    </tr>\n",
       "    <tr>\n",
       "      <th>4</th>\n",
       "      <td>Headphones</td>\n",
       "      <td>2847454.72</td>\n",
       "    </tr>\n",
       "  </tbody>\n",
       "</table>\n",
       "</div>"
      ],
      "text/plain": [
       "  Product Type       Income\n",
       "0   Smartphone  14630325.53\n",
       "1   Smartwatch   9557416.02\n",
       "2       Laptop   8536583.03\n",
       "3       Tablet   7893431.51\n",
       "4   Headphones   2847454.72"
      ]
     },
     "execution_count": 11,
     "metadata": {},
     "output_type": "execute_result"
    }
   ],
   "source": [
    "income_by_product = (\n",
    "    df_completed.groupby('Product Type')['Income']\n",
    "    .sum()\n",
    "    .sort_values(ascending=False)\n",
    "    .reset_index()\n",
    "\n",
    ")\n",
    "income_by_product"
   ]
  },
  {
   "cell_type": "markdown",
   "id": "ba174c90",
   "metadata": {},
   "source": [
    "#### Доход по доп. услугам (помесячно)"
   ]
  },
  {
   "cell_type": "code",
   "execution_count": 12,
   "id": "e374dcb8",
   "metadata": {},
   "outputs": [
    {
     "data": {
      "text/html": [
       "<div>\n",
       "<style scoped>\n",
       "    .dataframe tbody tr th:only-of-type {\n",
       "        vertical-align: middle;\n",
       "    }\n",
       "\n",
       "    .dataframe tbody tr th {\n",
       "        vertical-align: top;\n",
       "    }\n",
       "\n",
       "    .dataframe thead th {\n",
       "        text-align: right;\n",
       "    }\n",
       "</style>\n",
       "<table border=\"1\" class=\"dataframe\">\n",
       "  <thead>\n",
       "    <tr style=\"text-align: right;\">\n",
       "      <th></th>\n",
       "      <th>Month</th>\n",
       "      <th>Add-on Total</th>\n",
       "    </tr>\n",
       "  </thead>\n",
       "  <tbody>\n",
       "    <tr>\n",
       "      <th>0</th>\n",
       "      <td>2023-09</td>\n",
       "      <td>5337.61</td>\n",
       "    </tr>\n",
       "    <tr>\n",
       "      <th>1</th>\n",
       "      <td>2023-10</td>\n",
       "      <td>26153.21</td>\n",
       "    </tr>\n",
       "    <tr>\n",
       "      <th>2</th>\n",
       "      <td>2023-11</td>\n",
       "      <td>24453.33</td>\n",
       "    </tr>\n",
       "    <tr>\n",
       "      <th>3</th>\n",
       "      <td>2023-12</td>\n",
       "      <td>22750.23</td>\n",
       "    </tr>\n",
       "    <tr>\n",
       "      <th>4</th>\n",
       "      <td>2024-01</td>\n",
       "      <td>93254.95</td>\n",
       "    </tr>\n",
       "    <tr>\n",
       "      <th>5</th>\n",
       "      <td>2024-02</td>\n",
       "      <td>80253.72</td>\n",
       "    </tr>\n",
       "    <tr>\n",
       "      <th>6</th>\n",
       "      <td>2024-03</td>\n",
       "      <td>84713.93</td>\n",
       "    </tr>\n",
       "    <tr>\n",
       "      <th>7</th>\n",
       "      <td>2024-04</td>\n",
       "      <td>82294.06</td>\n",
       "    </tr>\n",
       "    <tr>\n",
       "      <th>8</th>\n",
       "      <td>2024-05</td>\n",
       "      <td>89374.18</td>\n",
       "    </tr>\n",
       "    <tr>\n",
       "      <th>9</th>\n",
       "      <td>2024-06</td>\n",
       "      <td>84648.60</td>\n",
       "    </tr>\n",
       "    <tr>\n",
       "      <th>10</th>\n",
       "      <td>2024-07</td>\n",
       "      <td>88811.55</td>\n",
       "    </tr>\n",
       "    <tr>\n",
       "      <th>11</th>\n",
       "      <td>2024-08</td>\n",
       "      <td>87861.11</td>\n",
       "    </tr>\n",
       "    <tr>\n",
       "      <th>12</th>\n",
       "      <td>2024-09</td>\n",
       "      <td>65688.76</td>\n",
       "    </tr>\n",
       "  </tbody>\n",
       "</table>\n",
       "</div>"
      ],
      "text/plain": [
       "      Month  Add-on Total\n",
       "0   2023-09       5337.61\n",
       "1   2023-10      26153.21\n",
       "2   2023-11      24453.33\n",
       "3   2023-12      22750.23\n",
       "4   2024-01      93254.95\n",
       "5   2024-02      80253.72\n",
       "6   2024-03      84713.93\n",
       "7   2024-04      82294.06\n",
       "8   2024-05      89374.18\n",
       "9   2024-06      84648.60\n",
       "10  2024-07      88811.55\n",
       "11  2024-08      87861.11\n",
       "12  2024-09      65688.76"
      ]
     },
     "execution_count": 12,
     "metadata": {},
     "output_type": "execute_result"
    }
   ],
   "source": [
    "income_addon_month = (\n",
    "    df_completed.groupby(df_completed['Purchase Date'].dt.to_period('M'))['Add-on Total']\n",
    "    .sum()\n",
    "    .rename_axis('Month')\n",
    "    .reset_index()\n",
    ")\n",
    "income_addon_month['Month'] = income_addon_month['Month'].astype(str)\n",
    "income_addon_month"
   ]
  },
  {
   "cell_type": "markdown",
   "id": "11385c6c",
   "metadata": {},
   "source": [
    "#### Доход по доп. услугам (поквартально)"
   ]
  },
  {
   "cell_type": "code",
   "execution_count": 13,
   "id": "961823dc",
   "metadata": {},
   "outputs": [
    {
     "data": {
      "text/html": [
       "<div>\n",
       "<style scoped>\n",
       "    .dataframe tbody tr th:only-of-type {\n",
       "        vertical-align: middle;\n",
       "    }\n",
       "\n",
       "    .dataframe tbody tr th {\n",
       "        vertical-align: top;\n",
       "    }\n",
       "\n",
       "    .dataframe thead th {\n",
       "        text-align: right;\n",
       "    }\n",
       "</style>\n",
       "<table border=\"1\" class=\"dataframe\">\n",
       "  <thead>\n",
       "    <tr style=\"text-align: right;\">\n",
       "      <th></th>\n",
       "      <th>Quarter</th>\n",
       "      <th>Add-on Total</th>\n",
       "    </tr>\n",
       "  </thead>\n",
       "  <tbody>\n",
       "    <tr>\n",
       "      <th>0</th>\n",
       "      <td>2023Q3</td>\n",
       "      <td>5337.61</td>\n",
       "    </tr>\n",
       "    <tr>\n",
       "      <th>1</th>\n",
       "      <td>2023Q4</td>\n",
       "      <td>73356.77</td>\n",
       "    </tr>\n",
       "    <tr>\n",
       "      <th>2</th>\n",
       "      <td>2024Q1</td>\n",
       "      <td>258222.60</td>\n",
       "    </tr>\n",
       "    <tr>\n",
       "      <th>3</th>\n",
       "      <td>2024Q2</td>\n",
       "      <td>256316.84</td>\n",
       "    </tr>\n",
       "    <tr>\n",
       "      <th>4</th>\n",
       "      <td>2024Q3</td>\n",
       "      <td>242361.42</td>\n",
       "    </tr>\n",
       "  </tbody>\n",
       "</table>\n",
       "</div>"
      ],
      "text/plain": [
       "  Quarter  Add-on Total\n",
       "0  2023Q3       5337.61\n",
       "1  2023Q4      73356.77\n",
       "2  2024Q1     258222.60\n",
       "3  2024Q2     256316.84\n",
       "4  2024Q3     242361.42"
      ]
     },
     "execution_count": 13,
     "metadata": {},
     "output_type": "execute_result"
    }
   ],
   "source": [
    "income_addon_quarter = (\n",
    "    df_completed.groupby(df_completed['Purchase Date'].dt.to_period('Q'))['Add-on Total']\n",
    "    .sum()\n",
    "    .rename_axis('Quarter')\n",
    "    .reset_index()\n",
    ")\n",
    "income_addon_quarter['Quarter'] = income_addon_quarter['Quarter'].astype(str)\n",
    "income_addon_quarter"
   ]
  },
  {
   "cell_type": "markdown",
   "id": "fdbd28ac",
   "metadata": {},
   "source": [
    "#### Визуализация данных по доходам"
   ]
  },
  {
   "cell_type": "code",
   "execution_count": 14,
   "id": "beface96",
   "metadata": {},
   "outputs": [
    {
     "data": {
      "image/png": "[encoded data removed]",
      "text/plain": [
       "<Figure size 1200x600 with 4 Axes>"
      ]
     },
     "metadata": {},
     "output_type": "display_data"
    }
   ],
   "source": [
    "# вспомогательная функция для форматирования чисел в млн / тыс\n",
    "def format_millions(x):\n",
    "    if x >= 1_000_000:\n",
    "        return f\"{x/1_000_000:.1f} млн\"\n",
    "    elif x >= 1_000:\n",
    "        return f\"{x/1_000:.0f} тыс\"\n",
    "    else:\n",
    "        return str(int(x))\n",
    "\n",
    "plt.figure(figsize=(12, 6))\n",
    "\n",
    "# Доход по методу доставки\n",
    "plt.subplot(2, 2, 1)\n",
    "plt.bar(income_by_shipping['Shipping Type'], income_by_shipping['Income'], color='skyblue')\n",
    "plt.title('Доход по методу доставки')\n",
    "plt.xticks(rotation=45, ha='right')\n",
    "plt.ylabel('Доход')\n",
    "plt.grid(axis='y', linestyle='--', alpha=0.5)\n",
    "\n",
    "ymax = income_by_shipping['Income'].max()\n",
    "step = ymax / 6\n",
    "yticks = np.arange(0, ymax + step, step)\n",
    "plt.yticks(yticks, [format_millions(y) for y in yticks])\n",
    "\n",
    "# Доход по типу продукта\n",
    "plt.subplot(2, 2, 2)\n",
    "plt.bar(income_by_product['Product Type'], income_by_product['Income'], color='lightgreen')\n",
    "plt.title('Доход по типу продукта')\n",
    "plt.xticks(rotation=45, ha='right')\n",
    "plt.ylabel('Доход')\n",
    "plt.grid(axis='y', linestyle='--', alpha=0.5)\n",
    "\n",
    "ymax = income_by_product['Income'].max()\n",
    "step = ymax / 6\n",
    "yticks = np.arange(0, ymax + step, step)\n",
    "plt.yticks(yticks, [format_millions(y) for y in yticks])\n",
    "\n",
    "# Доход по доп. услугам (помесячно)\n",
    "plt.subplot(2, 2, 3)\n",
    "plt.plot(income_addon_month['Month'], income_addon_month['Add-on Total'], marker='o', color='royalblue')\n",
    "plt.title('Доход по доп. услугам (месяцы)')\n",
    "plt.xticks(rotation=45, ha='right')\n",
    "plt.ylabel('Доход от Add-ons')\n",
    "plt.grid(axis='y', linestyle='--', alpha=0.5)\n",
    "\n",
    "ymax = income_addon_month['Add-on Total'].max()\n",
    "step = ymax / 6\n",
    "yticks = np.arange(0, ymax + step, step)\n",
    "plt.yticks(yticks, [format_millions(y) for y in yticks])\n",
    "\n",
    "# Доход по доп. услугам (поквартально)\n",
    "plt.subplot(2, 2, 4)\n",
    "plt.bar(income_addon_quarter['Quarter'], income_addon_quarter['Add-on Total'], color='salmon')\n",
    "plt.title('Доход по доп. услугам (кварталы)')\n",
    "plt.xticks(rotation=45, ha='right')\n",
    "plt.ylabel('Доход от Add-ons')\n",
    "plt.grid(axis='y', linestyle='--', alpha=0.5)\n",
    "\n",
    "ymax = income_addon_quarter['Add-on Total'].max()\n",
    "step = ymax / 6\n",
    "yticks = np.arange(0, ymax + step, step)\n",
    "plt.yticks(yticks, [format_millions(y) for y in yticks])\n",
    "\n",
    "plt.tight_layout()\n",
    "plt.show()\n"
   ]
  },
  {
   "cell_type": "markdown",
   "id": "256f364a",
   "metadata": {},
   "source": [
    "### Результат\n",
    "1. На основании датасета получен доход:\n",
    "- по каждому методу доставки, \n",
    "- по каждому типу продукта, \n",
    "- по дополнительным услугам за каждый месяц,\n",
    "- по дополнительным услугам за каждый квартал. \n",
    "2.  Полученные данные отображены на графике.\n",
    "\n",
    "При расчете учитывались только заказы в статусе Completed."
   ]
  }
 ],
 "metadata": {
  "kernelspec": {
   "display_name": "Python 3",
   "language": "python",
   "name": "python3"
  },
  "language_info": {
   "codemirror_mode": {
    "name": "ipython",
    "version": 3
   },
   "file_extension": ".py",
   "mimetype": "text/x-python",
   "name": "python",
   "nbconvert_exporter": "python",
   "pygments_lexer": "ipython3",
   "version": "3.11.13"
  }
 },
 "nbformat": 4,
 "nbformat_minor": 5
}
