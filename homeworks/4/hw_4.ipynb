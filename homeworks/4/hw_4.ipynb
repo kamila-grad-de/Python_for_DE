{
 "cells": [
  {
   "cell_type": "markdown",
   "id": "fe57a65f",
   "metadata": {},
   "source": [
    "## Задание 1\n",
    "Напишите функцию, которая принимает на вход строку и проверяет, является ли она валидным транспортным номером (1 буква, 3 цифры, 2 буквы, 2–3 цифры). \n",
    "\n",
    "Обратите внимание, что не все буквы кириллического алфавита используются в транспортных номерах.\n",
    "\n",
    "Если номер валиден, то функция должна возвращать отдельно номер и регион.\n",
    "\n",
    "Примеры работы программы:\n",
    "\n",
    "- `car_id = 'А222BС96' Результат: Номер А222BС валиден. Регион: 96.`\n",
    "\n",
    "- `car_id = 'АБ22ВВ193' Результат: Номер не валиден.`"
   ]
  },
  {
   "cell_type": "code",
   "execution_count": 1,
   "id": "d278f2a1",
   "metadata": {},
   "outputs": [],
   "source": [
    "import re"
   ]
  },
  {
   "cell_type": "code",
   "execution_count": 2,
   "id": "8c685d50",
   "metadata": {},
   "outputs": [],
   "source": [
    "def check_car_id(car_id):\n",
    "    # допустимые буквы кириллицы в номерах\n",
    "    allowed_letters_ru = \"АВЕКМНОРСТУХ\"\n",
    "    # допустимые буквы латиницы в номерах\n",
    "    allowed_letters_en = \"ABEKMHOPCTYX\"\n",
    "    # все допустимые буквы\n",
    "    allowed_letters_all = allowed_letters_ru + allowed_letters_en\n",
    "\n",
    "    # шаблон: 1 буква, 3 цифры, 2 буквы, 2-3 цифры\n",
    "    pattern = rf\"^([{allowed_letters_all}])(\\d{{3}})([{allowed_letters_all}]{{2}})(\\d{{2,3}})$\"\n",
    "    match = re.match(pattern, car_id)\n",
    "    if match:\n",
    "        number = match.group(1) + match.group(2) + match.group(3)\n",
    "        region = match.group(4)\n",
    "        return(f\"Номер {number} валиден. Регион: {region}.\")\n",
    "    else:\n",
    "        return(\"Номер не валиден.\")"
   ]
  },
  {
   "cell_type": "code",
   "execution_count": 3,
   "id": "60bf14bc",
   "metadata": {},
   "outputs": [
    {
     "name": "stdout",
     "output_type": "stream",
     "text": [
      "Номер А222BС валиден. Регион: 96.\n",
      "Номер не валиден.\n"
     ]
    }
   ],
   "source": [
    "print(check_car_id('А222BС96'))\n",
    "print(check_car_id('АБ22ВВ193'))"
   ]
  },
  {
   "cell_type": "markdown",
   "id": "f3f73461",
   "metadata": {},
   "source": [
    "### Результат \n",
    "Написанная функция принимает на вход строку, проверяет, является ли она валидным транспортным номером, и возвращает отдельно номер и регион, если номер валиден."
   ]
  },
  {
   "cell_type": "markdown",
   "id": "c8407869",
   "metadata": {},
   "source": [
    "## Задание 2 (не обязательное)\n",
    "Напишите функцию, которая будет удалять все последовательные повторы слов из заданной строки при помощи регулярных выражений.\n",
    "\n",
    "Пример работы программы:\n",
    "\n",
    "- `some_string = 'Напишите функцию функцию, которая будет будет будет будет удалять все все все все последовательные повторы слов из из из из заданной строки строки при помощи регулярных выражений'`\n",
    "\n",
    "Результат: Напишите функцию, которая будет удалять все последовательные повторы слов из заданной строки при помощи регулярных выражений.\n"
   ]
  },
  {
   "cell_type": "code",
   "execution_count": 4,
   "id": "483f9a55",
   "metadata": {},
   "outputs": [],
   "source": [
    "def remove_repeats(some_string, case_sensitive=True):\n",
    "    # задаём флаг для чувствительности к регистру\n",
    "    flags = 0\n",
    "    if not case_sensitive:\n",
    "        flags |= re.IGNORECASE\n",
    "    pattern = r'\\b(\\w+)(?:\\s+\\1\\b)+'\n",
    "    result = re.sub(pattern, r'\\1', some_string, flags=flags)\n",
    "    return result"
   ]
  },
  {
   "cell_type": "markdown",
   "id": "f0d3b92f",
   "metadata": {},
   "source": [
    "### Результат\n",
    "Написанная функция удаляет все последовательные повторы слов из заданной строки при помощи регулярных выражений. "
   ]
  },
  {
   "cell_type": "code",
   "execution_count": 5,
   "id": "99f867a2",
   "metadata": {},
   "outputs": [
    {
     "name": "stdout",
     "output_type": "stream",
     "text": [
      "Напишите функцию, которая будет удалять все последовательные повторы слов из заданной строки при помощи регулярных выражений\n",
      "True\n"
     ]
    }
   ],
   "source": [
    "# Пример работы программы:\n",
    "some_string = 'Напишите функцию функцию, которая будет будет будет будет удалять все все все все последовательные повторы слов из из из из заданной строки строки при помощи регулярных выражений'\n",
    "answer = 'Напишите функцию, которая будет удалять все последовательные повторы слов из заданной строки при помощи регулярных выражений'\n",
    "print(remove_repeats(some_string))\n",
    "print(remove_repeats(some_string) == answer)\n"
   ]
  }
 ],
 "metadata": {
  "kernelspec": {
   "display_name": "Python 3",
   "language": "python",
   "name": "python3"
  },
  "language_info": {
   "codemirror_mode": {
    "name": "ipython",
    "version": 3
   },
   "file_extension": ".py",
   "mimetype": "text/x-python",
   "name": "python",
   "nbconvert_exporter": "python",
   "pygments_lexer": "ipython3",
   "version": "3.11.13"
  }
 },
 "nbformat": 4,
 "nbformat_minor": 5
}
